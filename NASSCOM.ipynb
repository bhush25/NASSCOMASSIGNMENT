{
  "nbformat": 4,
  "nbformat_minor": 0,
  "metadata": {
    "colab": {
      "name": "NASSCOM.ipynb",
      "provenance": [],
      "mount_file_id": "1gYnVjv2yYoUt8wUZEKm7ps8SEeSW0ZXT",
      "authorship_tag": "ABX9TyPtA64o6xYwvUYBbv6zAA67",
      "include_colab_link": true
    },
    "kernelspec": {
      "name": "python3",
      "display_name": "Python 3"
    },
    "language_info": {
      "name": "python"
    }
  },
  "cells": [
    {
      "cell_type": "markdown",
      "metadata": {
        "id": "view-in-github",
        "colab_type": "text"
      },
      "source": [
        "<a href=\"https://colab.research.google.com/github/bhush25/NASSCOMASSIGNMENT/blob/main/NASSCOM.ipynb\" target=\"_parent\"><img src=\"https://colab.research.google.com/assets/colab-badge.svg\" alt=\"Open In Colab\"/></a>"
      ]
    },
    {
      "cell_type": "code",
      "metadata": {
        "colab": {
          "base_uri": "https://localhost:8080/"
        },
        "id": "vwMc7yqHCb9C",
        "outputId": "be68faf3-5287-4573-d6c8-f911bd1a4a78"
      },
      "source": [
        "!pip install wordcloud"
      ],
      "execution_count": 10,
      "outputs": [
        {
          "output_type": "stream",
          "name": "stdout",
          "text": [
            "Requirement already satisfied: wordcloud in /usr/local/lib/python3.7/dist-packages (1.5.0)\n",
            "Requirement already satisfied: pillow in /usr/local/lib/python3.7/dist-packages (from wordcloud) (7.1.2)\n",
            "Requirement already satisfied: numpy>=1.6.1 in /usr/local/lib/python3.7/dist-packages (from wordcloud) (1.19.5)\n"
          ]
        }
      ]
    },
    {
      "cell_type": "code",
      "metadata": {
        "colab": {
          "base_uri": "https://localhost:8080/"
        },
        "id": "4ycZKMpCDBnJ",
        "outputId": "f13833ad-a778-4cff-fc01-b8fa0cefffa4"
      },
      "source": [
        "import numpy as np\n",
        "import tensorflow as tf\n",
        "from tensorflow import keras\n",
        "import pandas as pd\n",
        "import seaborn as sns\n",
        "from pylab import rcParams\n",
        "import string\n",
        "import re\n",
        "import matplotlib.pyplot as plt\n",
        "import math\n",
        "from matplotlib import rc\n",
        "from google.colab import drive\n",
        "from sklearn.model_selection import train_test_split\n",
        "from collections import Counter, defaultdict\n",
        "from bs4 import BeautifulSoup\n",
        "from sklearn.metrics import accuracy_score\n",
        "from sklearn.metrics import classification_report, confusion_matrix\n",
        "import nltk\n",
        "from nltk.corpus import stopwords\n",
        "from wordcloud import WordCloud\n",
        "\n",
        "%matplotlib inline\n",
        "\n",
        "sns.set(style='whitegrid', palette='muted', font_scale=1.5)\n",
        "\n",
        "rcParams['figure.figsize'] = 14, 8\n",
        "\n",
        "RANDOM_SEED = 42\n",
        "\n",
        "np.random.seed(RANDOM_SEED)\n",
        "nltk.download('stopwords')"
      ],
      "execution_count": 11,
      "outputs": [
        {
          "output_type": "stream",
          "name": "stdout",
          "text": [
            "[nltk_data] Downloading package stopwords to /root/nltk_data...\n",
            "[nltk_data]   Package stopwords is already up-to-date!\n"
          ]
        },
        {
          "output_type": "execute_result",
          "data": {
            "text/plain": [
              "True"
            ]
          },
          "metadata": {},
          "execution_count": 11
        }
      ]
    },
    {
      "cell_type": "code",
      "metadata": {
        "id": "siEEIoVLDE1I"
      },
      "source": [
        "train = pd.read_csv(\"/content/drive/My Drive/labeledTrainData.tsv.zip\", delimiter=\"\\t\")\n",
        "test = pd.read_csv(\"/content/drive/My Drive/testData.tsv.zip\", delimiter=\"\\t\")"
      ],
      "execution_count": 12,
      "outputs": []
    },
    {
      "cell_type": "code",
      "metadata": {
        "colab": {
          "base_uri": "https://localhost:8080/",
          "height": 203
        },
        "id": "kYhy4czaDdGd",
        "outputId": "5f6588b9-3f72-44b0-b0ae-e5a762840164"
      },
      "source": [
        "train.head()"
      ],
      "execution_count": 13,
      "outputs": [
        {
          "output_type": "execute_result",
          "data": {
            "text/html": [
              "<div>\n",
              "<style scoped>\n",
              "    .dataframe tbody tr th:only-of-type {\n",
              "        vertical-align: middle;\n",
              "    }\n",
              "\n",
              "    .dataframe tbody tr th {\n",
              "        vertical-align: top;\n",
              "    }\n",
              "\n",
              "    .dataframe thead th {\n",
              "        text-align: right;\n",
              "    }\n",
              "</style>\n",
              "<table border=\"1\" class=\"dataframe\">\n",
              "  <thead>\n",
              "    <tr style=\"text-align: right;\">\n",
              "      <th></th>\n",
              "      <th>id</th>\n",
              "      <th>sentiment</th>\n",
              "      <th>review</th>\n",
              "    </tr>\n",
              "  </thead>\n",
              "  <tbody>\n",
              "    <tr>\n",
              "      <th>0</th>\n",
              "      <td>5814_8</td>\n",
              "      <td>1</td>\n",
              "      <td>With all this stuff going down at the moment w...</td>\n",
              "    </tr>\n",
              "    <tr>\n",
              "      <th>1</th>\n",
              "      <td>2381_9</td>\n",
              "      <td>1</td>\n",
              "      <td>\\The Classic War of the Worlds\\\" by Timothy Hi...</td>\n",
              "    </tr>\n",
              "    <tr>\n",
              "      <th>2</th>\n",
              "      <td>7759_3</td>\n",
              "      <td>0</td>\n",
              "      <td>The film starts with a manager (Nicholas Bell)...</td>\n",
              "    </tr>\n",
              "    <tr>\n",
              "      <th>3</th>\n",
              "      <td>3630_4</td>\n",
              "      <td>0</td>\n",
              "      <td>It must be assumed that those who praised this...</td>\n",
              "    </tr>\n",
              "    <tr>\n",
              "      <th>4</th>\n",
              "      <td>9495_8</td>\n",
              "      <td>1</td>\n",
              "      <td>Superbly trashy and wondrously unpretentious 8...</td>\n",
              "    </tr>\n",
              "  </tbody>\n",
              "</table>\n",
              "</div>"
            ],
            "text/plain": [
              "       id  sentiment                                             review\n",
              "0  5814_8          1  With all this stuff going down at the moment w...\n",
              "1  2381_9          1  \\The Classic War of the Worlds\\\" by Timothy Hi...\n",
              "2  7759_3          0  The film starts with a manager (Nicholas Bell)...\n",
              "3  3630_4          0  It must be assumed that those who praised this...\n",
              "4  9495_8          1  Superbly trashy and wondrously unpretentious 8..."
            ]
          },
          "metadata": {},
          "execution_count": 13
        }
      ]
    },
    {
      "cell_type": "code",
      "metadata": {
        "id": "XcBIjpJiDnqr"
      },
      "source": [
        "class Tokenizer:\n",
        "  \n",
        "  def clean(self, text):\n",
        "      no_html = BeautifulSoup(text).get_text()\n",
        "      clean = re.sub(\"[^a-z\\s]+\", \" \", no_html, flags=re.IGNORECASE)\n",
        "      return re.sub(\"(\\s+)\", \" \", clean)\n",
        "\n",
        " \n",
        "  def tokenize(self, text):\n",
        "      clean = self.clean(text).lower()\n",
        "      stopwords_en = stopwords.words(\"english\")\n",
        "      return [w for w in re.split(\"\\W+\", clean) if not w in stopwords_en]"
      ],
      "execution_count": 14,
      "outputs": []
    },
    {
      "cell_type": "code",
      "metadata": {
        "id": "jndyGLq1Ds7g"
      },
      "source": [
        "class MultinomialNaiveBayes:\n",
        "  \n",
        "    def __init__(self, classes, tokenizer):\n",
        "      self.tokenizer = tokenizer\n",
        "      self.classes = classes\n",
        "      \n",
        "    def group_by_class(self, X, y):\n",
        "      data = dict()\n",
        "      for c in self.classes:\n",
        "        data[c] = X[np.where(y == c)]\n",
        "      return data\n",
        "           \n",
        "    def fit(self, X, y):\n",
        "        self.n_class_items = {}\n",
        "        self.log_class_priors = {}\n",
        "        self.word_counts = {}\n",
        "        self.vocab = set()\n",
        "\n",
        "        n = len(X)\n",
        "        \n",
        "        grouped_data = self.group_by_class(X, y)\n",
        "        \n",
        "        for c, data in grouped_data.items():\n",
        "          self.n_class_items[c] = len(data)\n",
        "          self.log_class_priors[c] = math.log(self.n_class_items[c] / n)\n",
        "          self.word_counts[c] = defaultdict(lambda: 0)\n",
        "          \n",
        "          for text in data:\n",
        "            counts = Counter(self.tokenizer.tokenize(text))\n",
        "            for word, count in counts.items():\n",
        "                if word not in self.vocab:\n",
        "                    self.vocab.add(word)\n",
        "\n",
        "                self.word_counts[c][word] += count\n",
        "                \n",
        "        return self\n",
        "      \n",
        "    def laplace_smoothing(self, word, text_class):\n",
        "      num = self.word_counts[text_class][word] + 1\n",
        "      denom = self.n_class_items[text_class] + len(self.vocab)\n",
        "      return math.log(num / denom)\n",
        "      \n",
        "    def predict(self, X):\n",
        "        result = []\n",
        "        for text in X:\n",
        "          \n",
        "          class_scores = {c: self.log_class_priors[c] for c in self.classes}\n",
        "\n",
        "          words = set(self.tokenizer.tokenize(text))\n",
        "          for word in words:\n",
        "              if word not in self.vocab: continue\n",
        "\n",
        "              for c in self.classes:\n",
        "                \n",
        "                log_w_given_c = self.laplace_smoothing(word, c)\n",
        "                class_scores[c] += log_w_given_c\n",
        "                \n",
        "          result.append(max(class_scores, key=class_scores.get))\n",
        "\n",
        "        return result"
      ],
      "execution_count": 15,
      "outputs": []
    },
    {
      "cell_type": "code",
      "metadata": {
        "id": "4GrR7WZ-Dv_1"
      },
      "source": [
        "X = train['review'].values\n",
        "y = train['sentiment'].values\n",
        "  \n",
        "X_train, X_test, y_train, y_test = train_test_split(X, y, test_size=0.2, random_state=RANDOM_SEED)"
      ],
      "execution_count": 16,
      "outputs": []
    },
    {
      "cell_type": "code",
      "metadata": {
        "id": "CG_F64C_DyOJ"
      },
      "source": [
        "MNB = MultinomialNaiveBayes(\n",
        "    classes=np.unique(y), \n",
        "    tokenizer=Tokenizer()\n",
        ").fit(X_train, y_train)"
      ],
      "execution_count": 17,
      "outputs": []
    },
    {
      "cell_type": "code",
      "metadata": {
        "id": "8TmZLc--D0dQ"
      },
      "source": [
        "y_hat = MNB.predict(X_test)"
      ],
      "execution_count": 18,
      "outputs": []
    },
    {
      "cell_type": "code",
      "metadata": {
        "colab": {
          "base_uri": "https://localhost:8080/"
        },
        "id": "U5KAq5oiEFzp",
        "outputId": "b107e87b-2d1a-4ca6-e76e-a9b5e661a200"
      },
      "source": [
        "accuracy_score(y_test, y_hat)"
      ],
      "execution_count": 19,
      "outputs": [
        {
          "output_type": "execute_result",
          "data": {
            "text/plain": [
              "0.8556"
            ]
          },
          "metadata": {},
          "execution_count": 19
        }
      ]
    },
    {
      "cell_type": "code",
      "metadata": {
        "colab": {
          "base_uri": "https://localhost:8080/"
        },
        "id": "SZUP41UwEJjU",
        "outputId": "7cd7293a-46bc-4687-bc23-f0c36f514f6e"
      },
      "source": [
        "print(classification_report(y_test, y_hat))"
      ],
      "execution_count": 20,
      "outputs": [
        {
          "output_type": "stream",
          "name": "stdout",
          "text": [
            "              precision    recall  f1-score   support\n",
            "\n",
            "           0       0.89      0.81      0.85      2481\n",
            "           1       0.83      0.90      0.86      2519\n",
            "\n",
            "    accuracy                           0.86      5000\n",
            "   macro avg       0.86      0.86      0.86      5000\n",
            "weighted avg       0.86      0.86      0.86      5000\n",
            "\n"
          ]
        }
      ]
    },
    {
      "cell_type": "code",
      "metadata": {
        "colab": {
          "base_uri": "https://localhost:8080/"
        },
        "id": "Iee8xOpBEMO3",
        "outputId": "a7607697-89b4-4704-f568-19fb53b20f97"
      },
      "source": [
        "cnf_matrix = confusion_matrix(y_test, y_hat)\n",
        "cnf_matrix"
      ],
      "execution_count": 21,
      "outputs": [
        {
          "output_type": "execute_result",
          "data": {
            "text/plain": [
              "array([[2021,  460],\n",
              "       [ 262, 2257]])"
            ]
          },
          "metadata": {},
          "execution_count": 21
        }
      ]
    },
    {
      "cell_type": "code",
      "metadata": {
        "colab": {
          "base_uri": "https://localhost:8080/",
          "height": 586
        },
        "id": "9bn1Sh_5ENKc",
        "outputId": "5559ceaa-8b50-4ed0-ae24-994b580e23d7"
      },
      "source": [
        "class_names = [\"negative\", \"positive\"]\n",
        "fig,ax = plt.subplots()\n",
        "\n",
        "\n",
        "sns.heatmap(pd.DataFrame(cnf_matrix), annot=True, cmap=\"Blues\", fmt=\"d\", cbar=False, xticklabels=class_names, yticklabels=class_names)\n",
        "ax.xaxis.set_label_position('top')\n",
        "plt.tight_layout()\n",
        "plt.ylabel('Actual sentiment')\n",
        "plt.xlabel('Predicted sentiment');"
      ],
      "execution_count": 22,
      "outputs": [
        {
          "output_type": "display_data",
          "data": {
            "image/png": "[encoded data removed]",
            "text/plain": [
              "<Figure size 1008x576 with 1 Axes>"
            ]
          },
          "metadata": {}
        }
      ]
    }
  ]
}